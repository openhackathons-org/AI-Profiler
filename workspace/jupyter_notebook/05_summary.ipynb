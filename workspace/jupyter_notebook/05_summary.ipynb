{
 "cells": [
  {
   "cell_type": "markdown",
   "metadata": {},
   "source": [
    "<p> <center> <a href=\"../start_here.ipynb\">Home Page</a> </center> </p>\n",
    "\n",
    " \n",
    "<div>\n",
    "    <span style=\"float: left; width: 51%; text-align: right;\">\n",
    "        <a href=\"01_introduction.ipynb\">1</a>\n",
    "        <a href=\"02_pytorch_mnist.ipynb\">2</a>\n",
    "        <a href=\"03_data_transfer.ipynb\">3</a>\n",
    "        <a href=\"04_tensor_core_util.ipynb\">4</a>\n",
    "        <a >5</a>\n",
    "    </span>\n",
    "</div>"
   ]
  },
  {
   "cell_type": "markdown",
   "metadata": {},
   "source": [
    "Part 1 SUMMARY\n",
    "---\n",
    "\n",
    "In the previous notebooks you learnt how to:\n",
    "\n",
    "- Profile a sample application using NVIDIA Nsight Systems CLI commands\n",
    "- Apply NVTX annotations within application code \n",
    "- Interpret profile report on the timeline provided by NVIDIA Nsight Systems\n",
    "- Identify performance problems, apply optimization strategies, and confirm the performance improvement gained\n",
    "- Activate the use of AMP and track Tensor Core usage\n",
    "\n",
    "\n",
    "Going forward, we hope you can to apply the techniques learnt to optimize applications. \n",
    "\n",
    "Run the cell below to learn more about Nsight Systems CLI commands from the NVIDIA Nsight Systems 2022.2.1 user guide. "
   ]
  },
  {
   "cell_type": "code",
   "execution_count": 1,
   "metadata": {},
   "outputs": [
    {
     "data": {
      "text/html": [
       "\n",
       "        <iframe\n",
       "            width=\"960\"\n",
       "            height=\"900\"\n",
       "            src=\"../source_code/Nsight_Systems_User_Guide_2022.2.1.31-5fe97ab.pdf\"\n",
       "            frameborder=\"0\"\n",
       "            allowfullscreen\n",
       "        ></iframe>\n",
       "        "
      ],
      "text/plain": [
       "<IPython.lib.display.IFrame at 0x1ff7132e640>"
      ]
     },
     "execution_count": 1,
     "metadata": {},
     "output_type": "execute_result"
    }
   ],
   "source": [
    "from IPython.display import IFrame\n",
    "IFrame(\"../source_code/Nsight_Systems_User_Guide_2022.2.1.31-5fe97ab.pdf\", 960,900)"
   ]
  },
  {
   "cell_type": "markdown",
   "metadata": {},
   "source": [
    "---\n",
    "Please click on the `Start Part 2` link below to get started with Pytorch profiler with Tensorbord section. Please, note that this part is not required for evaluation, it is only for knowledge purpose. \n",
    "\n",
    "## <center><div style=\"text-align:center; color:#FF0000; border:3px solid red;height:80px;\"> <b><br/> [Start Part 2](tb01_introduction.ipynb) (optional) </b> </div></center>\n",
    "\n",
    "---"
   ]
  },
  {
   "cell_type": "markdown",
   "metadata": {},
   "source": [
    "\n",
    "## Acknowledgement\n",
    "\n",
    "**This material is adapted from:**\n",
    "- GTC 2021 Hands-on labs, Nsight Developer Tools Training Contents (https://github.com/NVIDIA/nsight-training) licensed under BSD 3-Clause \n",
    "- HPC nways on Nsight Systems (https://github.com/openhackathons-org/gpubootcamp/tree/master/hpc) licensed under the Creative Commons Attribution 4.0 International (CC BY 4.0)\n",
    "\n",
    "## Links and Resources\n",
    "\n",
    "If you are interested in learning more about the tool, here are some resources:\n",
    "- Download Nsight Systems for free from http://developer.nvidia.com/nsight-systems\n",
    "- Documentation is at https://docs.nvidia.com/nsight-systems/index.html\n",
    "- Blog posts: https://developer.nvidia.com/blog/tag/nsight-systems/\n",
    "\n",
    "\n",
    "[NVIDIA Nsight System](https://docs.nvidia.com/nsight-systems/)\n",
    "\n",
    "\n",
    "**NOTE**: To be able to see the Nsight System profiler output, please download Nsight System's latest version from [here](https://developer.nvidia.com/nsight-systems).\n",
    "\n",
    "You can also get resources from [openhackathons technical resource page](https://www.openhackathons.org/s/technical-resources)\n",
    " \n",
    "---\n",
    " ## Licensing\n",
    "  \n",
    "This material is released by OpenACC-Standard.org, in collaboration with NVIDIA Corporation, under the Creative Commons Attribution 4.0 International (CC BY 4.0)."
   ]
  },
  {
   "cell_type": "markdown",
   "metadata": {},
   "source": [
    "<div>\n",
    "    <span style=\"float: left; width: 51%; text-align: right;\">\n",
    "        <a href=\"01_introduction.ipynb\">1</a>\n",
    "        <a href=\"02_pytorch_mnist.ipynb\">2</a>\n",
    "        <a href=\"03_data_transfer.ipynb\">3</a>\n",
    "        <a href=\"04_tensor_core_util.ipynb\">4</a>\n",
    "        <a >5</a>\n",
    "    </span>\n",
    "</div>\n",
    "\n",
    "<br>\n",
    "<p> <center> <a href=\"../start_here.ipynb\">Home Page</a> </center> </p>"
   ]
  }
 ],
 "metadata": {
  "kernelspec": {
   "display_name": "Python 3",
   "language": "python",
   "name": "python3"
  },
  "language_info": {
   "codemirror_mode": {
    "name": "ipython",
    "version": 3
   },
   "file_extension": ".py",
   "mimetype": "text/x-python",
   "name": "python",
   "nbconvert_exporter": "python",
   "pygments_lexer": "ipython3",
   "version": "3.8.8"
  }
 },
 "nbformat": 4,
 "nbformat_minor": 4
}
