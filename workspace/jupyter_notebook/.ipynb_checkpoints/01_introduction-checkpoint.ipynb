{
 "cells": [
  {
   "cell_type": "markdown",
   "metadata": {},
   "source": [
    "<p> <center> <a href=\"../start_here.ipynb\">Home Page</a> </center> </p>\n",
    "\n",
    " \n",
    "<div>\n",
    "    <span style=\"float: left; width: 51%; text-align: right;\">\n",
    "        <a >1</a>\n",
    "        <a href=\"02_pytorch_mnist.ipynb\">2</a>\n",
    "        <a href=\"03_data_transfer.ipynb\">3</a>\n",
    "        <a href=\"\">4</a>\n",
    "        <a href=\"05_summary.ipynb\">5</a>\n",
    "    </span>\n",
    "    <span style=\"float: right; width: 49%; text-align: right;\"><a href=\"02_pytorch_mnist.ipynb\">Next Notebook</a></span>\n",
    "</div>\n"
   ]
  },
  {
   "cell_type": "markdown",
   "metadata": {},
   "source": [
    "# Part 1: Using NVIDIA® Nsight™ Systems\n",
    "---"
   ]
  },
  {
   "cell_type": "markdown",
   "metadata": {},
   "source": [
    "This lab gives an overview of the NVIDIA developer tools and steps to profile an application. The focus of this lab is to familiarize you with commonly used features of NVIDIA Nsight Systems graphic user interface (GUI).\n",
    "\n",
    "\n",
    "## What is profiling\n",
    "\n",
    "Profiling is the first step in optimizing and tuning your application. Profiling an application helps us understand where most of the execution time is spent, providing an understanding of its performance characteristics and identifying parts of the code that present opportunities for improvement. Finding hotspots and bottlenecks in your application can help you decide where to focus your optimization efforts."
   ]
  },
  {
   "cell_type": "markdown",
   "metadata": {},
   "source": [
    "## NVIDIA Developer Tools\n",
    "\n",
    "NVIDIA developer tools (Nsight Systems, Nsight Compute, Nsight Graphics) are a collection of applications, spanning desktop and mobile targets, which enable developers to build, debug, profile, and develop class- leading and cutting-edge software that utilizes the latest visual computing hardware from NVIDIA.\n",
    "\n",
    "Your profiling workflow will change to reflect the individual NVIDIA developer tool selected. Start with `Nsight Systems`  to get a system-level overview of the workload, eliminate any system-level bottlenecks, such as unnecessary thread synchronization or data movement, and improve the system-level parallelism of your algorithms to scale efficiently across any number or size of central processing units (CPUs) and GPUs. Once you have done that, proceed to `Nsight Compute` or `Nsight Graphics` to optimize the most significant NVIDIA CUDA® kernels or graphics workloads, respectively. Periodically return to Nsight Systems to ensure that you remain focused on the largest bottleneck, otherwise the bottleneck may have shifted and your kernel level optimizations may not achieve as high an improvement as expected.\n",
    "\n",
    "- Nsight Systems analyze application algorithm system-wide\n",
    "- Nsight Compute debug and optimize CUDA kernels\n",
    "- Nsight Graphics debug and optimize graphic workloads"
   ]
  },
  {
   "cell_type": "markdown",
   "metadata": {},
   "source": [
    "<img src=\"images/nsight_flow.png\" width=70%>"
   ]
  },
  {
   "cell_type": "markdown",
   "metadata": {},
   "source": [
    "\n",
    "\n",
    "## Nsight Systems\n",
    "\n",
    "NVIDIA [Nsight Systems](https://developer.nvidia.com/nsight-systems) offers system-wide performance analysis in order to visualize application’s algorithms, help identify optimization opportunities, and improve the performance of applications running on a system consisting of multiple CPUs and GPUs.\n",
    "\n",
    "The typical optimization workflow using NVIDIA Nsight Systems looks like the following:\n",
    "\n",
    "<img src=images/Optimization_workflow.jpg width=40%>\n",
    "\n",
    "It is an iterative process with 3 main steps:\n",
    "1. Profile the application\n",
    "2. Inspect and analyze the profile to identify any bottlenecks\n",
    "3. Optimize the application to address the bottlenecks\n",
    "\n"
   ]
  },
  {
   "cell_type": "markdown",
   "metadata": {},
   "source": [
    "### Brief Highlight of NVIDIA Nsight Systems (GUI) Timeline View \n",
    "\n",
    "This is a profile of the DeepStream reference application . The main features of the timeline view consist of the following:\n"
   ]
  },
  {
   "cell_type": "markdown",
   "metadata": {},
   "source": [
    "- **CPU view, Application Programming Interfaces (APIs) Traced, Thread Utilization, Core, Thread State, and CPU Sampling Points**\n",
    "\n",
    "At the top of the timeline view, you can see the CPU view which shows how the application is utilizing the CPU cores on the system, the processes, and the operating system (OS) thread running through the application. On each OS thread, you can view the `trace` of all the `APIs` made on that thread. NVIDIA Nsight Systems has the ability to trace 20 different APIs such as `CUDA`, `cuDNN`, `cuBLAS`, `NVTX`, `OS runtimes libraries` such as calls to `pThread libraries`, `file I/O`, etc. For each OS thread, you can view the thread state changes and its migrations across CPU cores.\n",
    "\n",
    "<img src=images/nsys_cpu_api_thread.png width=70%>"
   ]
  },
  {
   "cell_type": "markdown",
   "metadata": {},
   "source": [
    "- **CPU Sampling Summary**\n",
    "\n",
    "At the bottom of the timeline view, you can see a statistical summary of the CPU sampling data which helps to quickly identify hot functions(functions that consume more time) on the CPU. \n",
    "\n",
    "<img src=images/nsys_cpu_summary.png width=65%>"
   ]
  },
  {
   "cell_type": "markdown",
   "metadata": {},
   "source": [
    "- **Blocked State Backtrace**\n",
    "\n",
    "For long running calls into OS runtime libraries, Nsight Systems captures `Backtraces` which helps identify problematic parts of the code that are causing the threads to block.\n",
    "\n",
    "<img src=images/nsys_blocked_state.png width=65%>"
   ]
  },
  {
   "cell_type": "markdown",
   "metadata": {},
   "source": [
    "\n",
    "- **GPU View**\n",
    "\n",
    "Near the bottom part of the timeline views, you can see how the application is utilizing various GPUs on the system, the `kernels`, and the `memory` operations that transpired on the GPU. When you hover your mouse over any of these events, a pop-up box will appear to display detailed operations about the event.\n",
    "\n",
    "<img src=images/nsys_GPU_view.png width=65%>"
   ]
  },
  {
   "cell_type": "markdown",
   "metadata": {},
   "source": [
    "- **Search within a Timeline Row**\n",
    "\n",
    "To the right of the `Events View`, you can `search` within the timeline row.\n",
    "\n",
    "<img src=images/nsys_search.png width=65%>"
   ]
  },
  {
   "cell_type": "markdown",
   "metadata": {},
   "source": [
    "- **CUDA API Backtrace**\n",
    "\n",
    "For long running CUDA APIs calls, you can capture `Backtraces` which can help identify problematic parts of the code.\n",
    "\n",
    "<img src=images/nsys_CUDA_api.png width=60%>"
   ]
  },
  {
   "cell_type": "markdown",
   "metadata": {},
   "source": [
    "The next notebook explains how to start the profiling of a simple DNN training program. Please click on the `Next Notebook` link at the bottom to get started."
   ]
  },
  {
   "cell_type": "markdown",
   "metadata": {},
   "source": [
    "## Acknowledgments\n",
    "\n",
    "Images used in this notebook were extracted from `Sneha Kottapalli's`, April 16, 2021 presentation on `NVIDIA NSIGHT SYSTEMS` at the GTC.\n",
    "\n",
    "\n",
    "## Links and Resources\n",
    "\n",
    "\n",
    "[NVIDIA Nsight Systems](https://docs.nvidia.com/nsight-systems/)\n",
    "\n",
    "\n",
    "**NOTE**: To be able to see the profiler output, please download the latest version of NVIDIA Nsight Systems from [here](https://developer.nvidia.com/nsight-systems).\n",
    "\n",
    "\n",
    "You can also get resources from [Open Hackathons technical resource page](https://www.openhackathons.org/s/technical-resources)\n",
    "\n",
    "\n",
    "--- \n",
    "\n",
    "## Licensing \n",
    "\n",
    "Copyright © 2022 OpenACC-Standard.org. This material is released by OpenACC-Standard.org, in collaboration with NVIDIA Corporation, under the Creative Commons Attribution 4.0 International (CC BY 4.0). These materials may include references to hardware and software developed by other entities; all applicable licensing and copyrights apply."
   ]
  },
  {
   "cell_type": "markdown",
   "metadata": {},
   "source": [
    "<div>\n",
    "    <span style=\"float: left; width: 51%; text-align: right;\">\n",
    "        <a >1</a>\n",
    "        <a href=\"02_pytorch_mnist.ipynb\">2</a>\n",
    "        <a href=\"03_data_transfer.ipynb\">3</a>\n",
    "        <a href=\"04_tensor_core_util.ipynb\">4</a>\n",
    "        <a href=\"05_summary.ipynb\">5</a>\n",
    "    </span>\n",
    "    <span style=\"float: left; width: 49%; text-align: right;\"><a href=\"02_pytorch_mnist.ipynb\">Next Notebook</a></span>\n",
    "</div>\n",
    "\n",
    "<br>\n",
    "<p> <center> <a href=\"../start_here.ipynb\">Home Page</a> </center> </p>"
   ]
  }
 ],
 "metadata": {
  "kernelspec": {
   "display_name": "Python 3",
   "language": "python",
   "name": "python3"
  },
  "language_info": {
   "codemirror_mode": {
    "name": "ipython",
    "version": 3
   },
   "file_extension": ".py",
   "mimetype": "text/x-python",
   "name": "python",
   "nbconvert_exporter": "python",
   "pygments_lexer": "ipython3",
   "version": "3.8.8"
  }
 },
 "nbformat": 4,
 "nbformat_minor": 4
}
