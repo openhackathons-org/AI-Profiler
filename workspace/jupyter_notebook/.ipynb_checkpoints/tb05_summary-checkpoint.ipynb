{
 "cells": [
  {
   "cell_type": "markdown",
   "metadata": {},
   "source": [
    "<p> <center> <a href=\"../start_here.ipynb\">Home Page</a> </center> </p>\n",
    "\n",
    " \n",
    "<div>\n",
    "    <span style=\"float: left; width: 51%; text-align: right;\">\n",
    "        <a href=\"01_introduction.ipynb\">1</a>\n",
    "        <a href=\"02_pytorch_mnist.ipynb\">2</a>\n",
    "        <a href=\"03_data_transfer.ipynb\">3</a>\n",
    "        <a href=\"04_tensor_core_util.ipynb\">4</a>\n",
    "        <a >5</a>\n",
    "    </span>\n",
    "</div>"
   ]
  },
  {
   "cell_type": "markdown",
   "metadata": {},
   "source": [
    "Part 2 SUMMARY\n",
    "---\n",
    "In this section of the labs, you learned how to:\n",
    "\n",
    "- Run the sample application.\n",
    "- Apply Pytorch Profiler within our application code. Visualize profile trace log on the TensorBoard.\n",
    "- Interpret the timeline, Overview, Memory View, GPU View, Performance recommendation, and GPU utilization.\n",
    "- Identify performance problems through the Performance recommendation  suggestion. Confirm the performance improvement gained from the optimizations.\n",
    "- Enable pinned memory.\n",
    "- Activate the use of Automatic Mixed Precision (AMP) and track Tensor Core usage.\n",
    "\n",
    "We hope that you enjoyed the lab and learned useful techniques and strategies on how to use PyTorch Profiler with TensorBoard to optimize applications to efficiently utilize the system resources.\n"
   ]
  },
  {
   "cell_type": "markdown",
   "metadata": {},
   "source": [
    "<br/>\n",
    "<br/>\n",
    "<br/>\n"
   ]
  },
  {
   "cell_type": "markdown",
   "metadata": {},
   "source": [
    "We recommend answering a few multiple-choice questions to test your understanding after completing Part 1 of this lab. "
   ]
  },
  {
   "cell_type": "markdown",
   "metadata": {},
   "source": [
    "## Acknowledgement\n",
    "\n",
    "**This material is adapted from:**\n",
    "\n",
    "- NVIDIA GPU Technology Conference (GTC) 2021 Hands-on labs, NVIDIA Nsight™ Developer Tools Training content (https://github.com/NVIDIA/nsight-training) licensed under BSD 3-Clause.\n",
    "- HPC N-Ways to GPU Programming on Nsight Systems (https://github.com/openhackathons-org/gpubootcamp/tree/master/hpc) licensed under the Creative Commons Attribution 4.0 International (CC BY 4.0)\n"
   ]
  },
  {
   "cell_type": "markdown",
   "metadata": {},
   "source": [
    "## Links and Resources\n",
    "\n",
    "[NVIDIA Nsight™ Systems](https://docs.nvidia.com/nsight-systems/)\n",
    "\n",
    "\n",
    "**NOTE**: To be able to see the profiler output, please download the latest version of NVIDIA Nsight Systems from [here](https://developer.nvidia.com/nsight-systems).\n",
    "\n",
    "You can also get resources from [openhackathons technical resource page](https://www.openhackathons.org/s/technical-resources)\n",
    " \n",
    " ---\n",
    " ## Licensing\n",
    "  \n",
    "Copyright © 2022 OpenACC-Standard.org. This material is released by OpenACC-Standard.org, in collaboration with NVIDIA Corporation, under the Creative Commons Attribution 4.0 International (CC BY 4.0). These materials may include references to hardware and software developed by other entities; all applicable licensing and copyrights apply."
   ]
  },
  {
   "cell_type": "markdown",
   "metadata": {},
   "source": [
    "<div>\n",
    "    <span style=\"float: left; width: 51%; text-align: right;\">\n",
    "        <a href=\"01_introduction.ipynb\">1</a>\n",
    "        <a href=\"02_pytorch_mnist.ipynb\">2</a>\n",
    "        <a href=\"03_data_transfer.ipynb\">3</a>\n",
    "        <a href=\"04_tensor_core_util.ipynb\">4</a>\n",
    "        <a >5</a>\n",
    "    </span>\n",
    "</div>\n",
    "\n",
    "<br>\n",
    "<p> <center> <a href=\"../start_here.ipynb\">Home Page</a> </center> </p>"
   ]
  }
 ],
 "metadata": {
  "kernelspec": {
   "display_name": "Python 3",
   "language": "python",
   "name": "python3"
  },
  "language_info": {
   "codemirror_mode": {
    "name": "ipython",
    "version": 3
   },
   "file_extension": ".py",
   "mimetype": "text/x-python",
   "name": "python",
   "nbconvert_exporter": "python",
   "pygments_lexer": "ipython3",
   "version": "3.8.8"
  }
 },
 "nbformat": 4,
 "nbformat_minor": 4
}
