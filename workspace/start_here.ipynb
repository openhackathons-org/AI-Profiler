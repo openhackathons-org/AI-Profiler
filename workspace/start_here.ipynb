{
 "cells": [
  {
   "cell_type": "markdown",
   "metadata": {},
   "source": [
    "# Optimizing a Deep Neural Network (DNN) training program\n",
    "---"
   ]
  },
  {
   "cell_type": "markdown",
   "metadata": {},
   "source": [
    "This Lab is into two parts: part 1 & 2. The part 1 discusses profiling using NVIDIA Nsight Systems, while part 2 expatiates on the application of PyTorch Profiler with TensorBoard plugin. Both parts focus on steps to optimizing deep neural network training program using a PyTorch mnist program. \n",
    "\n",
    "Overall, the lab teaches how to use NVIDIA Nsight Systems and PyTorch Profiler with TensorBoard to optimize a simple Deep Neural Network (DNN) training program that detects hand-written digits. The techniques and strategies discussed in this lab will translate to optimizing any application that uses NVIDIA's GPUs.\n",
    "\n",
    "In this lab, you will learn how to do the following.\n",
    "- Run the sample application\n",
    "- Use NVIDIA Nsight Systems to profile the application\n",
    "- Use PyTorch Profiler to profile the application and visualize on TensorBoard \n",
    "- Interpret the timeline provided by NVIDIA Nsight Systems and understand the application's use of the system resources\n",
    "- Use TensorBoard execution summary, step time breakdown, and performance recommendation to understand the application's use of the system resources\n",
    "- Identify performance problems in the application and apply optimization strategies\n",
    "- Confirm the performance improvement gained from the optimizations"
   ]
  },
  {
   "cell_type": "markdown",
   "metadata": {},
   "source": [
    "Below is the agenda to get us started with the optimizing process of a simple Deep Neural Network (DNN) training program.\n",
    "\n",
    "## Table of Content\n",
    "1. Part 1 (Profiling With NVIDIA Nsight Systems) [**required for evaluation**]\n",
    "    1. [Start the NVIDIA Nsight Systems lab](jupyter_notebook/01_introduction.ipynb)\n",
    "    1. [PyTorch mnist and Optimization Workflow](jupyter_notebook/02_pytorch_mnist.ipynb)\n",
    "    1. [Data Transfers between Host and GPU](jupyter_notebook/03_data_transfer.ipynb)\n",
    "    1. [Tensor Core](jupyter_notebook/04_tensor_core_util.ipynb)\n",
    "    1. [Summary](jupyter_notebook/05_summary.ipynb)\n",
    "1. Part 2 (PyTorch Profiler with Tensorboard)[**optional**]\n",
    "    1. [Start PyTorch Profiler with TensorBoard plugin](jupyter_notebook/tb01_introduction.ipynb)\n",
    "    1. [PyTorch mnist Optimization from TensorBoard Visualization](jupyter_notebook/tb02_pytorch_mnist.ipynb)\n",
    "    1. [Memory Operation ](jupyter_notebook/tb03_data_transfer.ipynb)\n",
    "    1. [Tensor Core](jupyter_notebook/tb04_tensor_core_util.ipynb)\n",
    "    1. [Summary](jupyter_notebook/tb05_summary.ipynb)"
   ]
  },
  {
   "cell_type": "markdown",
   "metadata": {},
   "source": [
    "Let's execute the cell below to display information about the CUDA driver and GPUs running on the server by running the `nvidia-smi` command. To do this, execute the cell block below by giving it focus (clicking on it with your mouse), and hitting Ctrl-Enter, or pressing the play button in the toolbar above. If all goes well, you should see some output returned below the grey cell.\n"
   ]
  },
  {
   "cell_type": "code",
   "execution_count": null,
   "metadata": {},
   "outputs": [],
   "source": [
    "!nvidia-smi"
   ]
  },
  {
   "cell_type": "markdown",
   "metadata": {},
   "source": [
    "### Tutorial Duration\n",
    "The lab material will be presented in a 2hr session..\n",
    "\n",
    "### Content Level\n",
    "Beginner, Intermediate\n",
    "\n",
    "### Target Audience and Prerequisites\n",
    "The target audience for this lab are Prospective mentors who desire to become a mentor at AI-based Hackathon. Audience are expected to have Python programming background Knowledge. "
   ]
  },
  {
   "cell_type": "markdown",
   "metadata": {},
   "source": [
    "## Links and Resources\n",
    "\n",
    "\n",
    "[NVIDIA® Nsight™ Systems](https://docs.nvidia.com/nsight-systems/)\n",
    "\n",
    "\n",
    "**NOTE**: To be able to see the profiler output, please download NVIDIA Nsight Systems' latest version from [here](https://developer.nvidia.com/nsight-systems).\n",
    "\n",
    "You can also get resources from [openhackathons technical resource page](https://www.openhackathons.org/s/technical-resources)\n",
    "\n",
    "\n",
    "--- \n",
    "\n",
    "## Licensing \n",
    "\n",
    "This material is released by OpenACC-Standard.org, in collaboration with NVIDIA Corporation, under the Creative Commons Attribution 4.0 International (CC BY 4.0).\n"
   ]
  },
  {
   "cell_type": "code",
   "execution_count": null,
   "metadata": {},
   "outputs": [],
   "source": []
  }
 ],
 "metadata": {
  "kernelspec": {
   "display_name": "Python 3",
   "language": "python",
   "name": "python3"
  },
  "language_info": {
   "codemirror_mode": {
    "name": "ipython",
    "version": 3
   },
   "file_extension": ".py",
   "mimetype": "text/x-python",
   "name": "python",
   "nbconvert_exporter": "python",
   "pygments_lexer": "ipython3",
   "version": "3.8.8"
  }
 },
 "nbformat": 4,
 "nbformat_minor": 4
}
