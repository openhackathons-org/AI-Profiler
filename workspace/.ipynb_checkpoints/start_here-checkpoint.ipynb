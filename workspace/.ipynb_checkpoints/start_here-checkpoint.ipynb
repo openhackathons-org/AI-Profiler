{
 "cells": [
  {
   "cell_type": "markdown",
   "metadata": {},
   "source": [
    "# Optimizing a Deep Neural Network (DNN) Training Program\n",
    "---"
   ]
  },
  {
   "cell_type": "markdown",
   "metadata": {},
   "source": [
    "This lab is presented in two parts: part 1  and 2. Part 1 discusses profiling using NVIDIA® Nsight™ Systems, while part 2 explains the application of PyTorch Profiler with TensorBoard plugin. Both parts focus on steps to optimize a deep neural network (DNN) training program that detects handwritten digits using a PyTorch Modified National Institute of Standards and Technology (MNIST) dataset. The techniques and strategies discussed in this lab will translate to  optimizing any application that uses NVIDIA's graphic processing units (GPUs).\n",
    "\n",
    "In this lab, you will learn how to do the following:\n",
    "- Run the sample application,\n",
    "- Use NVIDIA Nsight Systems to profile the application,\n",
    "- Use PyTorch Profiler to profile the application and visualize it on TensorBoard,\n",
    "- Interpret the timeline provided by NVIDIA Nsight Systems and understand the application's use of the system resources,\n",
    "- Use TensorBoard execution summary, step time breakdown, and performance recommendation to understand the application's use of the system resources,\n",
    "- Identify performance problems in the application and apply optimization strategies, and Confirm the performance improvement gained from the optimizations.\n"
   ]
  },
  {
   "cell_type": "markdown",
   "metadata": {},
   "source": [
    "Below is the agenda to get us started with the optimizing process of a simple DNN  training program.\n",
    "\n",
    "## Table of Content\n",
    "1. Part 1 (Profiling With NVIDIA Nsight Systems) [**required for evaluation**]\n",
    "    1. [Start the NVIDIA Nsight Systems lab](jupyter_notebook/01_introduction.ipynb)\n",
    "    1. [PyTorch MNIST and Optimization Workflow](jupyter_notebook/02_pytorch_mnist.ipynb)\n",
    "    1. [Data Transfers between Host and GPU](jupyter_notebook/03_data_transfer.ipynb)\n",
    "    1. [Tensor Core](jupyter_notebook/04_tensor_core_util.ipynb)\n",
    "    1. [Summary](jupyter_notebook/05_summary.ipynb)\n",
    "1. Part 2 (PyTorch Profiler with TensorBoard)[**optional**]\n",
    "    1. [Start PyTorch Profiler with TensorBoard plugin](jupyter_notebook/tb01_introduction.ipynb)\n",
    "    1. [PyTorch MNIST Optimization from TensorBoard Visualization](jupyter_notebook/tb02_pytorch_mnist.ipynb)\n",
    "    1. [Memory Operation ](jupyter_notebook/tb03_data_transfer.ipynb)\n",
    "    1. [Tensor Core](jupyter_notebook/tb04_tensor_core_util.ipynb)\n",
    "    1. [Summary](jupyter_notebook/tb05_summary.ipynb)"
   ]
  },
  {
   "cell_type": "markdown",
   "metadata": {},
   "source": [
    "Execute the `nvidia-smi` command in the cell below to display information about the NVIDIA CUDA® driver and GPUs running on the server by clicking on it with your mouse and pressing `Ctrl+Enter`, or pressing the play button in the toolbar above. You should see some output returned below the grey cell if the command is executed properly."
   ]
  },
  {
   "cell_type": "code",
   "execution_count": null,
   "metadata": {},
   "outputs": [],
   "source": [
    "!nvidia-smi"
   ]
  },
  {
   "cell_type": "markdown",
   "metadata": {},
   "source": [
    "### Tutorial Duration\n",
    "The lab material will be presented in a 2-hour session.\n",
    "\n",
    "### Content Level\n",
    "Beginner, Intermediate\n",
    "\n",
    "### Target Audience and Prerequisites\n",
    "The target audience for this lab are prospective mentors who plan to mentor at artificial intelligence (AI)-based hackathons . Python programming background knowledge is expected."
   ]
  },
  {
   "cell_type": "markdown",
   "metadata": {},
   "source": [
    "## Links and Resources\n",
    "\n",
    "\n",
    "[NVIDIA Nsight Systems](https://docs.nvidia.com/nsight-systems/)\n",
    "\n",
    "\n",
    "**NOTE**: To be able to see the profiler output, please download the latest version of NVIDIA Nsight Systems from [here](https://developer.nvidia.com/nsight-systems).\n",
    "\n",
    "\n",
    "You can also get resources from [Open Hackathons technical resource page](https://www.openhackathons.org/s/technical-resources)\n",
    "\n",
    "\n",
    "--- \n",
    "\n",
    "## Licensing \n",
    "\n",
    "Copyright © 2022 OpenACC-Standard.org. This material is released by OpenACC-Standard.org, in collaboration with NVIDIA Corporation, under the Creative Commons Attribution 4.0 International (CC BY 4.0). These materials may include references to hardware and software developed by other entities; all applicable licensing and copyrights apply.\n"
   ]
  }
 ],
 "metadata": {
  "kernelspec": {
   "display_name": "Python 3",
   "language": "python",
   "name": "python3"
  },
  "language_info": {
   "codemirror_mode": {
    "name": "ipython",
    "version": 3
   },
   "file_extension": ".py",
   "mimetype": "text/x-python",
   "name": "python",
   "nbconvert_exporter": "python",
   "pygments_lexer": "ipython3",
   "version": "3.8.8"
  }
 },
 "nbformat": 4,
 "nbformat_minor": 4
}
